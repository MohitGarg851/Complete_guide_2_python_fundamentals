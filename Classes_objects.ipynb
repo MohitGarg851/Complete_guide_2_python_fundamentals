{
 "cells": [
  {
   "cell_type": "markdown",
   "metadata": {},
   "source": [
    "## Classes and objects"
   ]
  },
  {
   "cell_type": "code",
   "execution_count": null,
   "metadata": {},
   "outputs": [],
   "source": []
  },
  {
   "cell_type": "code",
   "execution_count": 35,
   "metadata": {},
   "outputs": [],
   "source": [
    "class Book:\n",
    "\n",
    "    Book_type = 'Hard Copy' #Class variable\n",
    "    \n",
    "    # A class can have multiple objects such as book1, book2 etc \n",
    "                    #its neccasary to declare object too\n",
    "                    # self accepts object    \n",
    "    def __init__(self, title, genre, author , length):\n",
    "        \n",
    "        self.title = title\n",
    "        self.genre = genre\n",
    "        self.author = author\n",
    "        self.length = length\n",
    "        \n",
    "    def show(self):\n",
    "        \n",
    "        print(\"Title :\", self.title)\n",
    "        print(\"Genre :\", self.genre)\n",
    "        print(\"Author :\", self.author)\n",
    "        print(\"Length :\", self.length)\n",
    "        \n",
    "    def update_length(self,value):\n",
    "        \n",
    "        self.length = value\n",
    "        \n",
    "    def compare_length(self, other):\n",
    "        if self.length == other.length:\n",
    "            return True\n",
    "        else:\n",
    "            return False\n",
    "\n",
    "book1 = Book(\"Long Road to Mercy\", \"Crime\", \"David Baldacci\", 123)\n",
    "book2 = Book(\"Cinderella\", \"Fairytale\", \"Giambattista Basile\", 235)"
   ]
  },
  {
   "cell_type": "code",
   "execution_count": 11,
   "metadata": {},
   "outputs": [],
   "source": []
  },
  {
   "cell_type": "code",
   "execution_count": 14,
   "metadata": {},
   "outputs": [
    {
     "name": "stdout",
     "output_type": "stream",
     "text": [
      "Title : Long Road to Mercy\n",
      "Genre : Crime\n",
      "Author : David Baldacci\n",
      "Length : 123\n",
      "None\n",
      "Title : Cinderella\n",
      "Genre : Fairytale\n",
      "Author : Giambattista Basile\n",
      "Length : 235\n",
      "None\n"
     ]
    }
   ],
   "source": [
    "print(book1.show()) #<--- type 1\n",
    "print(Book.show(book2)) #<--- type 2"
   ]
  },
  {
   "cell_type": "code",
   "execution_count": 19,
   "metadata": {},
   "outputs": [
    {
     "name": "stdout",
     "output_type": "stream",
     "text": [
      "198\n"
     ]
    }
   ],
   "source": [
    "book1.update_length(198)\n",
    "print(book1.length)"
   ]
  },
  {
   "cell_type": "code",
   "execution_count": 21,
   "metadata": {},
   "outputs": [
    {
     "name": "stdout",
     "output_type": "stream",
     "text": [
      "Both books are of different length\n"
     ]
    }
   ],
   "source": [
    "# Comparing attributes of different objects\n",
    "\n",
    "if book1.compare_length(book2):\n",
    "    print(\"Both books are of same length\")\n",
    "else:\n",
    "    print(\"Both books are of different length\")\n",
    "    "
   ]
  },
  {
   "cell_type": "code",
   "execution_count": 36,
   "metadata": {},
   "outputs": [
    {
     "name": "stdout",
     "output_type": "stream",
     "text": [
      "Hard Copy\n",
      "Hard Copy\n",
      "Hard Copy\n"
     ]
    }
   ],
   "source": [
    "print(Book.Book_type)\n",
    "print(book1.Book_type)\n",
    "print(book2.Book_type)"
   ]
  },
  {
   "cell_type": "code",
   "execution_count": 37,
   "metadata": {},
   "outputs": [
    {
     "name": "stdout",
     "output_type": "stream",
     "text": [
      "Kindle\n",
      "Kindle\n",
      "Kindle\n"
     ]
    }
   ],
   "source": [
    "Book.Book_type = 'Kindle'\n",
    "\n",
    "print(Book.Book_type)\n",
    "print(book1.Book_type)\n",
    "print(book2.Book_type)"
   ]
  },
  {
   "cell_type": "code",
   "execution_count": null,
   "metadata": {},
   "outputs": [],
   "source": []
  },
  {
   "cell_type": "code",
   "execution_count": 39,
   "metadata": {},
   "outputs": [
    {
     "data": {
      "text/plain": [
       "'Variables(or attributes) are of two types class and instance\\n    whereas methods are of three types class, instance,\\n    static methods '"
      ]
     },
     "execution_count": 39,
     "metadata": {},
     "output_type": "execute_result"
    }
   ],
   "source": [
    "'''Variables(or attributes) are of two types class and instance\n",
    "    whereas methods are of three types class, instance,\n",
    "    static methods '''"
   ]
  },
  {
   "cell_type": "code",
   "execution_count": null,
   "metadata": {},
   "outputs": [],
   "source": []
  },
  {
   "cell_type": "markdown",
   "metadata": {},
   "source": [
    "## Methods"
   ]
  },
  {
   "cell_type": "markdown",
   "metadata": {},
   "source": [
    "Types of Methods:\n",
    "    1. Instance Method\n",
    "    2. Class Method\n",
    "    3. Static Method"
   ]
  },
  {
   "cell_type": "code",
   "execution_count": null,
   "metadata": {},
   "outputs": [],
   "source": []
  },
  {
   "cell_type": "code",
   "execution_count": 41,
   "metadata": {},
   "outputs": [],
   "source": [
    "class Student:\n",
    "    \n",
    "    school = 'ABC academy'\n",
    "    \n",
    "    # Instance method\n",
    "    \n",
    "    def __init__(self, m1, m2 , m3):\n",
    "        self.marks1 = m1\n",
    "        self.marks2 = m2\n",
    "        self.marks3 = m3\n",
    "        \n",
    "    def average(self):\n",
    "        return (self.marks1 +self.marks2 + self.marks3)/3.0\n",
    "    \n",
    "    \n",
    "    # Class method\n",
    "    \n",
    "    @classmethod\n",
    "    def info(cls):\n",
    "        return cls.school\n",
    "    \n",
    "    # Static method\n",
    "    # nothing to do with class or instance method variables\n",
    "    \n",
    "    @staticmethod\n",
    "    def headline():\n",
    "        print(\"This system is designed to generate student DB \")\n",
    "        \n",
    "        \n",
    "    # getters and setters to fetch and set values for object\n",
    "    def get_marks1(self):\n",
    "        return self.marks1\n",
    "    \n",
    "    def set_marks1(self, value):\n",
    "        self.marks1 = value\n",
    "    "
   ]
  },
  {
   "cell_type": "code",
   "execution_count": null,
   "metadata": {},
   "outputs": [],
   "source": []
  },
  {
   "cell_type": "code",
   "execution_count": 42,
   "metadata": {},
   "outputs": [],
   "source": [
    "stu1 = Student(65,62,45) # <--- constructor to set values \n",
    "stu2 = Student(98,95,12)\n"
   ]
  },
  {
   "cell_type": "code",
   "execution_count": 43,
   "metadata": {},
   "outputs": [
    {
     "name": "stdout",
     "output_type": "stream",
     "text": [
      "57.333333333333336\n",
      "68.33333333333333\n"
     ]
    }
   ],
   "source": [
    "print(stu1.average())\n",
    "\n",
    "print(stu2.average())"
   ]
  },
  {
   "cell_type": "code",
   "execution_count": 44,
   "metadata": {},
   "outputs": [
    {
     "name": "stdout",
     "output_type": "stream",
     "text": [
      "56\n"
     ]
    }
   ],
   "source": [
    "stu1.set_marks1(56)\n",
    "print(stu1.marks1)"
   ]
  },
  {
   "cell_type": "code",
   "execution_count": null,
   "metadata": {},
   "outputs": [],
   "source": []
  },
  {
   "cell_type": "code",
   "execution_count": 45,
   "metadata": {},
   "outputs": [
    {
     "name": "stdout",
     "output_type": "stream",
     "text": [
      "ABC academy\n"
     ]
    }
   ],
   "source": [
    "# it gives error if  '@classmethod' not mention\n",
    "# when we have to pass class method we have to use special\n",
    "# way of doing that using decorators\n",
    "print (Student.info()) \n"
   ]
  },
  {
   "cell_type": "code",
   "execution_count": 46,
   "metadata": {},
   "outputs": [
    {
     "name": "stdout",
     "output_type": "stream",
     "text": [
      "This system is designed to generate student DB \n",
      "None\n"
     ]
    }
   ],
   "source": [
    "print (Student.headline())"
   ]
  },
  {
   "cell_type": "markdown",
   "metadata": {},
   "source": [
    "### Class inside a class"
   ]
  },
  {
   "cell_type": "code",
   "execution_count": 56,
   "metadata": {},
   "outputs": [],
   "source": [
    "class Home:\n",
    "    \n",
    "    class Kitchen:\n",
    "        \n",
    "        def __init__(self):\n",
    "            \n",
    "            self.size = '5ft x 5ft'\n",
    "            self.cupboard = 5\n",
    "            self.window = 2\n",
    "        \n",
    "        def show(self):\n",
    "            print(self.size, self.cupboard, self.window)\n",
    "            \n",
    "            \n",
    "            \n",
    "    def __init__(self , size, rooms, bathroom, balcony ):\n",
    "        \n",
    "        self.size = size \n",
    "        self.rooms = rooms\n",
    "        self.bathroom = bathroom\n",
    "        self.balcony = balcony\n",
    "        \n",
    "        self.kitchen = self.Kitchen()\n",
    "        \n",
    "    def show(self):\n",
    "        print(self.size, self.rooms , self.bathroom)\n",
    "        print('Balcony :', self.balcony)\n",
    "        \n",
    "        print(self.kitchen.show())\n",
    "\n",
    "\n",
    "        "
   ]
  },
  {
   "cell_type": "code",
   "execution_count": 57,
   "metadata": {},
   "outputs": [],
   "source": [
    "home1 = Home('60ft x 50ft', 6, 3, 2)\n",
    "home2 = Home('39ft x 42ft', 4, 2, 1)\n"
   ]
  },
  {
   "cell_type": "code",
   "execution_count": 58,
   "metadata": {},
   "outputs": [
    {
     "name": "stdout",
     "output_type": "stream",
     "text": [
      "60ft x 50ft 6 3\n",
      "Balcony : 2\n",
      "5ft x 5ft 5 2\n",
      "None\n"
     ]
    }
   ],
   "source": [
    "home1.show()"
   ]
  },
  {
   "cell_type": "code",
   "execution_count": null,
   "metadata": {},
   "outputs": [],
   "source": []
  },
  {
   "cell_type": "code",
   "execution_count": null,
   "metadata": {},
   "outputs": [],
   "source": []
  },
  {
   "cell_type": "code",
   "execution_count": null,
   "metadata": {},
   "outputs": [],
   "source": []
  },
  {
   "cell_type": "code",
   "execution_count": null,
   "metadata": {},
   "outputs": [],
   "source": []
  }
 ],
 "metadata": {
  "kernelspec": {
   "display_name": "Python 3",
   "language": "python",
   "name": "python3"
  },
  "language_info": {
   "codemirror_mode": {
    "name": "ipython",
    "version": 3
   },
   "file_extension": ".py",
   "mimetype": "text/x-python",
   "name": "python",
   "nbconvert_exporter": "python",
   "pygments_lexer": "ipython3",
   "version": "3.7.3"
  }
 },
 "nbformat": 4,
 "nbformat_minor": 2
}
